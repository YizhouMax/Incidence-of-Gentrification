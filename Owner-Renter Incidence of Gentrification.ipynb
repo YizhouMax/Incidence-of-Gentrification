{
 "cells": [
  {
   "cell_type": "markdown",
   "metadata": {},
   "source": [
    "#Title: The Incidence of Downward Mobility: Evidence from Chicago "
   ]
  },
  {
   "cell_type": "markdown",
   "metadata": {},
   "source": [
    "Code Author: Yizhou Zhang, Ph.D. candidate in Agricultural & Consumer Economics, Univ of Illinois at Urbana-Champaign"
   ]
  },
  {
   "cell_type": "code",
   "execution_count": 2,
   "metadata": {
    "collapsed": true
   },
   "outputs": [],
   "source": [
    "import pandas as pd"
   ]
  },
  {
   "cell_type": "markdown",
   "metadata": {},
   "source": [
    "Use the American Community Survey (ACS) data between 2010-2016 to identify which census tracts gentrified between 2010-2015. The data is already downloaded. "
   ]
  },
  {
   "cell_type": "code",
   "execution_count": 3,
   "metadata": {
    "collapsed": true
   },
   "outputs": [],
   "source": [
    "ACS1016 =  pd.read_csv(\"C:/Users/Max/Google Drive/My Research/Chicago Crime-Migration/data/ACS1016.csv\")\n",
    "\n",
    "# Create a new column named \"MergeID\" such that table joining can be done\n",
    "ACS1016['MergeID'] =  ACS1016[\"Year\"].apply(int).apply(str) +  ACS1016[\"GEOID\"].apply(int).apply(str)\n",
    "\n",
    "# drop the first column that is redundant\n",
    "\n",
    "ACS1016 = ACS1016.drop(ACS1016.columns[0], 1)"
   ]
  },
  {
   "cell_type": "code",
   "execution_count": 4,
   "metadata": {
    "scrolled": true
   },
   "outputs": [
    {
     "data": {
      "text/html": [
       "<div>\n",
       "<style>\n",
       "    .dataframe thead tr:only-child th {\n",
       "        text-align: right;\n",
       "    }\n",
       "\n",
       "    .dataframe thead th {\n",
       "        text-align: left;\n",
       "    }\n",
       "\n",
       "    .dataframe tbody tr th {\n",
       "        vertical-align: top;\n",
       "    }\n",
       "</style>\n",
       "<table border=\"1\" class=\"dataframe\">\n",
       "  <thead>\n",
       "    <tr style=\"text-align: right;\">\n",
       "      <th></th>\n",
       "      <th>GEOID</th>\n",
       "      <th>under24</th>\n",
       "      <th>A2549</th>\n",
       "      <th>A5061</th>\n",
       "      <th>A62more</th>\n",
       "      <th>TotPop</th>\n",
       "      <th>MHHI</th>\n",
       "      <th>EDU</th>\n",
       "      <th>P_Own</th>\n",
       "      <th>pct_Built20y</th>\n",
       "      <th>MHV</th>\n",
       "      <th>MGR</th>\n",
       "      <th>Less10k</th>\n",
       "      <th>I10k_20k</th>\n",
       "      <th>more20k</th>\n",
       "      <th>TotRsp</th>\n",
       "      <th>Year</th>\n",
       "      <th>MergeID</th>\n",
       "    </tr>\n",
       "  </thead>\n",
       "  <tbody>\n",
       "    <tr>\n",
       "      <th>0</th>\n",
       "      <td>17001000100</td>\n",
       "      <td>0.261459</td>\n",
       "      <td>0.327954</td>\n",
       "      <td>0.148268</td>\n",
       "      <td>0.262320</td>\n",
       "      <td>4647</td>\n",
       "      <td>40114.0</td>\n",
       "      <td>0.178179</td>\n",
       "      <td>0.864256</td>\n",
       "      <td>0.883983</td>\n",
       "      <td>96900.0</td>\n",
       "      <td>587.0</td>\n",
       "      <td>0.060122</td>\n",
       "      <td>0.101926</td>\n",
       "      <td>0.837952</td>\n",
       "      <td>2129</td>\n",
       "      <td>2010</td>\n",
       "      <td>201017001000100</td>\n",
       "    </tr>\n",
       "    <tr>\n",
       "      <th>1</th>\n",
       "      <td>17001000201</td>\n",
       "      <td>0.334850</td>\n",
       "      <td>0.299818</td>\n",
       "      <td>0.181074</td>\n",
       "      <td>0.184258</td>\n",
       "      <td>2198</td>\n",
       "      <td>41356.0</td>\n",
       "      <td>0.109190</td>\n",
       "      <td>0.800712</td>\n",
       "      <td>0.870700</td>\n",
       "      <td>79800.0</td>\n",
       "      <td>657.0</td>\n",
       "      <td>0.087782</td>\n",
       "      <td>0.098458</td>\n",
       "      <td>0.813760</td>\n",
       "      <td>843</td>\n",
       "      <td>2010</td>\n",
       "      <td>201017001000201</td>\n",
       "    </tr>\n",
       "    <tr>\n",
       "      <th>2</th>\n",
       "      <td>17001000202</td>\n",
       "      <td>0.503276</td>\n",
       "      <td>0.261778</td>\n",
       "      <td>0.138222</td>\n",
       "      <td>0.096724</td>\n",
       "      <td>3205</td>\n",
       "      <td>44076.0</td>\n",
       "      <td>0.130421</td>\n",
       "      <td>0.775216</td>\n",
       "      <td>0.974063</td>\n",
       "      <td>85100.0</td>\n",
       "      <td>624.0</td>\n",
       "      <td>0.097983</td>\n",
       "      <td>0.060519</td>\n",
       "      <td>0.841499</td>\n",
       "      <td>1041</td>\n",
       "      <td>2010</td>\n",
       "      <td>201017001000202</td>\n",
       "    </tr>\n",
       "    <tr>\n",
       "      <th>3</th>\n",
       "      <td>17001000400</td>\n",
       "      <td>0.328177</td>\n",
       "      <td>0.261878</td>\n",
       "      <td>0.149613</td>\n",
       "      <td>0.260331</td>\n",
       "      <td>4525</td>\n",
       "      <td>24230.0</td>\n",
       "      <td>0.057017</td>\n",
       "      <td>0.547820</td>\n",
       "      <td>0.856864</td>\n",
       "      <td>52800.0</td>\n",
       "      <td>555.0</td>\n",
       "      <td>0.111906</td>\n",
       "      <td>0.303839</td>\n",
       "      <td>0.584255</td>\n",
       "      <td>1537</td>\n",
       "      <td>2010</td>\n",
       "      <td>201017001000400</td>\n",
       "    </tr>\n",
       "    <tr>\n",
       "      <th>4</th>\n",
       "      <td>17001000500</td>\n",
       "      <td>0.364100</td>\n",
       "      <td>0.313703</td>\n",
       "      <td>0.159117</td>\n",
       "      <td>0.163080</td>\n",
       "      <td>1766</td>\n",
       "      <td>31583.0</td>\n",
       "      <td>0.107022</td>\n",
       "      <td>0.614966</td>\n",
       "      <td>0.952381</td>\n",
       "      <td>67200.0</td>\n",
       "      <td>580.0</td>\n",
       "      <td>0.134694</td>\n",
       "      <td>0.164626</td>\n",
       "      <td>0.700680</td>\n",
       "      <td>735</td>\n",
       "      <td>2010</td>\n",
       "      <td>201017001000500</td>\n",
       "    </tr>\n",
       "  </tbody>\n",
       "</table>\n",
       "</div>"
      ],
      "text/plain": [
       "         GEOID   under24     A2549     A5061   A62more  TotPop     MHHI  \\\n",
       "0  17001000100  0.261459  0.327954  0.148268  0.262320    4647  40114.0   \n",
       "1  17001000201  0.334850  0.299818  0.181074  0.184258    2198  41356.0   \n",
       "2  17001000202  0.503276  0.261778  0.138222  0.096724    3205  44076.0   \n",
       "3  17001000400  0.328177  0.261878  0.149613  0.260331    4525  24230.0   \n",
       "4  17001000500  0.364100  0.313703  0.159117  0.163080    1766  31583.0   \n",
       "\n",
       "        EDU     P_Own  pct_Built20y      MHV    MGR   Less10k  I10k_20k  \\\n",
       "0  0.178179  0.864256      0.883983  96900.0  587.0  0.060122  0.101926   \n",
       "1  0.109190  0.800712      0.870700  79800.0  657.0  0.087782  0.098458   \n",
       "2  0.130421  0.775216      0.974063  85100.0  624.0  0.097983  0.060519   \n",
       "3  0.057017  0.547820      0.856864  52800.0  555.0  0.111906  0.303839   \n",
       "4  0.107022  0.614966      0.952381  67200.0  580.0  0.134694  0.164626   \n",
       "\n",
       "    more20k  TotRsp  Year          MergeID  \n",
       "0  0.837952    2129  2010  201017001000100  \n",
       "1  0.813760     843  2010  201017001000201  \n",
       "2  0.841499    1041  2010  201017001000202  \n",
       "3  0.584255    1537  2010  201017001000400  \n",
       "4  0.700680     735  2010  201017001000500  "
      ]
     },
     "execution_count": 4,
     "metadata": {},
     "output_type": "execute_result"
    }
   ],
   "source": [
    "ACS1016[:5]"
   ]
  },
  {
   "cell_type": "markdown",
   "metadata": {},
   "source": [
    "now extract all observations (census tracts) from the year 2010"
   ]
  },
  {
   "cell_type": "code",
   "execution_count": 5,
   "metadata": {
    "collapsed": true
   },
   "outputs": [],
   "source": [
    "\n",
    "ACS2010 = ACS1016[ACS1016.Year == 2010]\n",
    "\n",
    "\n",
    "ACS2010 = ACS2010.rename(columns={'MHHI':'MHHI_10', 'EDU':'EDU_10','pct_Built20y':'pct_Built20y_10','MHV':'MHV_10','MGR':'MGR_10'})\n",
    "\n",
    "ACS2010.columns\n",
    "\n",
    "ACS2010 = ACS2010[['GEOID', 'MHHI_10', 'EDU_10','pct_Built20y_10','MHV_10','MGR_10']]\n",
    "\n"
   ]
  },
  {
   "cell_type": "code",
   "execution_count": 9,
   "metadata": {},
   "outputs": [
    {
     "data": {
      "text/html": [
       "<div>\n",
       "<style>\n",
       "    .dataframe thead tr:only-child th {\n",
       "        text-align: right;\n",
       "    }\n",
       "\n",
       "    .dataframe thead th {\n",
       "        text-align: left;\n",
       "    }\n",
       "\n",
       "    .dataframe tbody tr th {\n",
       "        vertical-align: top;\n",
       "    }\n",
       "</style>\n",
       "<table border=\"1\" class=\"dataframe\">\n",
       "  <thead>\n",
       "    <tr style=\"text-align: right;\">\n",
       "      <th></th>\n",
       "      <th>GEOID</th>\n",
       "      <th>MHHI_10</th>\n",
       "      <th>EDU_10</th>\n",
       "      <th>pct_Built20y_10</th>\n",
       "      <th>MHV_10</th>\n",
       "      <th>MGR_10</th>\n",
       "    </tr>\n",
       "  </thead>\n",
       "  <tbody>\n",
       "    <tr>\n",
       "      <th>0</th>\n",
       "      <td>17001000100</td>\n",
       "      <td>40114.0</td>\n",
       "      <td>0.178179</td>\n",
       "      <td>0.883983</td>\n",
       "      <td>96900.0</td>\n",
       "      <td>587.0</td>\n",
       "    </tr>\n",
       "    <tr>\n",
       "      <th>1</th>\n",
       "      <td>17001000201</td>\n",
       "      <td>41356.0</td>\n",
       "      <td>0.109190</td>\n",
       "      <td>0.870700</td>\n",
       "      <td>79800.0</td>\n",
       "      <td>657.0</td>\n",
       "    </tr>\n",
       "    <tr>\n",
       "      <th>2</th>\n",
       "      <td>17001000202</td>\n",
       "      <td>44076.0</td>\n",
       "      <td>0.130421</td>\n",
       "      <td>0.974063</td>\n",
       "      <td>85100.0</td>\n",
       "      <td>624.0</td>\n",
       "    </tr>\n",
       "    <tr>\n",
       "      <th>3</th>\n",
       "      <td>17001000400</td>\n",
       "      <td>24230.0</td>\n",
       "      <td>0.057017</td>\n",
       "      <td>0.856864</td>\n",
       "      <td>52800.0</td>\n",
       "      <td>555.0</td>\n",
       "    </tr>\n",
       "    <tr>\n",
       "      <th>4</th>\n",
       "      <td>17001000500</td>\n",
       "      <td>31583.0</td>\n",
       "      <td>0.107022</td>\n",
       "      <td>0.952381</td>\n",
       "      <td>67200.0</td>\n",
       "      <td>580.0</td>\n",
       "    </tr>\n",
       "  </tbody>\n",
       "</table>\n",
       "</div>"
      ],
      "text/plain": [
       "         GEOID  MHHI_10    EDU_10  pct_Built20y_10   MHV_10  MGR_10\n",
       "0  17001000100  40114.0  0.178179         0.883983  96900.0   587.0\n",
       "1  17001000201  41356.0  0.109190         0.870700  79800.0   657.0\n",
       "2  17001000202  44076.0  0.130421         0.974063  85100.0   624.0\n",
       "3  17001000400  24230.0  0.057017         0.856864  52800.0   555.0\n",
       "4  17001000500  31583.0  0.107022         0.952381  67200.0   580.0"
      ]
     },
     "execution_count": 9,
     "metadata": {},
     "output_type": "execute_result"
    }
   ],
   "source": [
    "ACS2010[:5]"
   ]
  },
  {
   "cell_type": "code",
   "execution_count": 6,
   "metadata": {
    "collapsed": true
   },
   "outputs": [],
   "source": [
    "\n",
    "\n",
    "#now join the dataset with 2010 housing values of its origin tract\n",
    "\n",
    "#ACS2010 = subset(ACS1016, select = c(GEOID, PrevMHV, Year))\n",
    "\n",
    "\n",
    "ACS2010 = ACS1016[ACS1016.Year == 2010]\n",
    "\n",
    "\n",
    "ACS2010 = ACS2010.rename(columns={'MHHI':'MHHI_10', 'EDU':'EDU_10','pct_Built20y':'pct_Built20y_10','MHV':'MHV_10','MGR':'MGR_10'})\n",
    "\n",
    "\n",
    "ACS2010 = ACS2010[['GEOID', 'MHHI_10', 'EDU_10','pct_Built20y_10','MHV_10','MGR_10']]\n",
    "\n",
    "\n",
    "\n",
    "\n",
    "#also record the 2015 housing price. For measuring the intensity of gentrification 2015/2010\n",
    "ACS2015 = ACS1016[ACS1016.Year == 2015]\n",
    "\n",
    "\n",
    "ACS2015 = ACS2015.rename(columns={'MHHI':'MHHI_15', 'EDU':'EDU_15','pct_Built20y':'pct_Built20y_15',\n",
    "                                  'MHV':'MHV_15','MGR':'MGR_15'})\n",
    "\n",
    "\n",
    "ACS2015 = ACS2015[['GEOID', 'MHHI_15', 'EDU_15','pct_Built20y_15','MHV_15','MGR_15']]\n",
    "\n"
   ]
  },
  {
   "cell_type": "code",
   "execution_count": 75,
   "metadata": {
    "collapsed": true
   },
   "outputs": [],
   "source": [
    "\n",
    "# merge MHV2010 and MHV2015 to get any neighborhood's changes between 2010-2015\n",
    "\n",
    "\n",
    "Gent1015 =  pd.merge(ACS2010, ACS2015, how='inner', on = \"GEOID\")\n",
    "\n",
    "Gent1015 = Gent1015.dropna(axis=0, how='any')\n",
    "\n",
    "\n",
    "#now we have a dataset of tracts that can compare between 2010 and 2015. \n",
    "\n",
    "\n",
    "# Now we\n",
    "\n",
    "\n",
    "Gent1015['EDU_1015'] = Gent1015.EDU_15 - Gent1015.EDU_10\n",
    "\n",
    "Gent1015['MHHI_1015'] = Gent1015.MHHI_15 / Gent1015.MHHI_10\n",
    "\n",
    "Gent1015['MHV_1015'] = Gent1015.MHV_15 / Gent1015.MHV_10\n",
    "\n",
    "Gent1015['MGR_1015'] = Gent1015.MGR_15 / Gent1015.MGR_10\n",
    "\n",
    "Gent1015['Built_1015'] = Gent1015.pct_Built20y_15 / Gent1015.pct_Built20y_10"
   ]
  },
  {
   "cell_type": "markdown",
   "metadata": {},
   "source": [
    "Build a series of flags as criteria of gentrification "
   ]
  },
  {
   "cell_type": "code",
   "execution_count": 76,
   "metadata": {
    "collapsed": true
   },
   "outputs": [],
   "source": [
    "\n",
    "# build the indicator flags \n",
    "Gent1015['EDU_Flag'] = Gent1015.EDU_1015.map(lambda x : 1 if x > Gent1015.EDU_1015.quantile(0.5) else 0)\n",
    "\n",
    "\n",
    "Gent1015['MHHI_Flag'] = Gent1015.MHHI_1015.map(lambda x : 1 if x > Gent1015.MHHI_1015.quantile(0.5) else 0)\n",
    "\n",
    "\n",
    "Gent1015['MHV_Flag'] = Gent1015.MHV_1015.map(lambda x : 1 if x > Gent1015.MHV_1015.quantile(0.5) else 0)\n",
    "\n",
    "#Gent1015$MGR_Flag = ifelse(Gent1015$MGR_1015 > median(Gent1015$MGR_1015), 1,0)\n",
    "\n",
    "\n",
    "\n",
    "# find the gentrifiable tracts , and gentrified tracts \n",
    "\n",
    "\n",
    "Gent1015['gent_able'] = Gent1015.MHV_10.map(lambda x : 1 if x < Gent1015.MHV_10.quantile(0.5) else 0)\n",
    "\n",
    "\n",
    "\n",
    "Gent1015['gented'] = Gent1015.EDU_Flag * Gent1015.MHV_Flag  * Gent1015.gent_able\n",
    "\n",
    "\n",
    "Gent1015['gent_class'] =  Gent1015.gented + Gent1015.gent_able\n",
    "\n",
    "\n",
    "# Now use replace function to encode\n",
    "\n",
    "\n",
    "Gent1015['gent_class'] = Gent1015.gent_class.replace([0,1,2],[\"nongentrifiable\",\"nongentrified\",\"gentrified\"])\n",
    "\n",
    "\n",
    "# then generate the dataset to join INFO usa\n",
    "Gentable1015 = Gent1015[Gent1015.gent_able ==1]\n",
    "  \n",
    "\n",
    "#Gentable1015['Gented'] = Gentable1015.EDU_Flag * Gentable1015.MHV_Flag \n",
    "\n",
    "\n",
    "#Gentable1015['gented'] = Gentable1015.gented.map(lambda x: 'gented' if x == 1 else 'nongented')\n",
    "\n"
   ]
  },
  {
   "cell_type": "markdown",
   "metadata": {},
   "source": [
    "The next step is summary statistics of table \"Gent1015\" by group  (group ID  = \"gent_class\")"
   ]
  },
  {
   "cell_type": "markdown",
   "metadata": {},
   "source": [
    "First compare neighborhoods' 2010 characterisitics by their gentrification status. The summary statistics is median. "
   ]
  },
  {
   "cell_type": "code",
   "execution_count": 77,
   "metadata": {
    "scrolled": true
   },
   "outputs": [
    {
     "data": {
      "text/html": [
       "<div>\n",
       "<style>\n",
       "    .dataframe thead tr:only-child th {\n",
       "        text-align: right;\n",
       "    }\n",
       "\n",
       "    .dataframe thead th {\n",
       "        text-align: left;\n",
       "    }\n",
       "\n",
       "    .dataframe tbody tr th {\n",
       "        vertical-align: top;\n",
       "    }\n",
       "</style>\n",
       "<table border=\"1\" class=\"dataframe\">\n",
       "  <thead>\n",
       "    <tr style=\"text-align: right;\">\n",
       "      <th></th>\n",
       "      <th>MHV_10</th>\n",
       "      <th>MGR_10</th>\n",
       "      <th>EDU_10</th>\n",
       "      <th>MHHI_10</th>\n",
       "    </tr>\n",
       "    <tr>\n",
       "      <th>gent_class</th>\n",
       "      <th></th>\n",
       "      <th></th>\n",
       "      <th></th>\n",
       "      <th></th>\n",
       "    </tr>\n",
       "  </thead>\n",
       "  <tbody>\n",
       "    <tr>\n",
       "      <th>gentrified</th>\n",
       "      <td>100000.0</td>\n",
       "      <td>644.0</td>\n",
       "      <td>0.101959</td>\n",
       "      <td>45263.0</td>\n",
       "    </tr>\n",
       "    <tr>\n",
       "      <th>nongentrifiable</th>\n",
       "      <td>291400.0</td>\n",
       "      <td>958.0</td>\n",
       "      <td>0.239663</td>\n",
       "      <td>65838.0</td>\n",
       "    </tr>\n",
       "    <tr>\n",
       "      <th>nongentrified</th>\n",
       "      <td>121500.0</td>\n",
       "      <td>706.5</td>\n",
       "      <td>0.101850</td>\n",
       "      <td>44046.0</td>\n",
       "    </tr>\n",
       "  </tbody>\n",
       "</table>\n",
       "</div>"
      ],
      "text/plain": [
       "                   MHV_10  MGR_10    EDU_10  MHHI_10\n",
       "gent_class                                          \n",
       "gentrified       100000.0   644.0  0.101959  45263.0\n",
       "nongentrifiable  291400.0   958.0  0.239663  65838.0\n",
       "nongentrified    121500.0   706.5  0.101850  44046.0"
      ]
     },
     "execution_count": 77,
     "metadata": {},
     "output_type": "execute_result"
    }
   ],
   "source": [
    "Gent1015 = Gent1015.dropna()\n",
    "\n",
    "Gent1015.groupby(\"gent_class\")[['MHV_10','MGR_10','EDU_10',\"MHHI_10\"]].median()"
   ]
  },
  {
   "cell_type": "markdown",
   "metadata": {},
   "source": [
    "The expected result is that the classes \"gentrified\" and \"nongentrified\" are comparable in their 2010 characterisitcs while both are distinct with the class \"nongentrifiable\". The above median comparision meets this expectation. "
   ]
  },
  {
   "cell_type": "markdown",
   "metadata": {},
   "source": [
    "Then compare neighborhoods' 2010-2015 percentage changes in selected characterisitics by their gentrification status. The summary statistics is median. "
   ]
  },
  {
   "cell_type": "code",
   "execution_count": 79,
   "metadata": {
    "scrolled": true
   },
   "outputs": [
    {
     "name": "stdout",
     "output_type": "stream",
     "text": [
      "                 MHV_1015  MGR_1015  MHHI_1015\n",
      "gent_class                                    \n",
      "gentrified          0.03%     0.07%      0.07%\n",
      "nongentrifiable    -0.17%     0.09%      0.03%\n",
      "nongentrified      -0.09%     0.08%      0.02%\n"
     ]
    }
   ],
   "source": [
    "a = Gent1015.groupby(\"gent_class\")[['MHV_1015','MGR_1015',\"MHHI_1015\"]].median() -1\n",
    "\n",
    "print (a.to_string(float_format= lambda x: \"{:.2f}%\".format(x) ))"
   ]
  },
  {
   "cell_type": "markdown",
   "metadata": {},
   "source": [
    "The expectation is that the class \"gentrified\" experienced the greatest positive changes relative to the other two classes. The results above confirms the expectation. "
   ]
  },
  {
   "cell_type": "markdown",
   "metadata": {},
   "source": [
    "The next step is to join mover_stayer dataset with the ACS1016 dataset. In other words, join the longitudinal dataset with information of neighborhood characteristics. "
   ]
  },
  {
   "cell_type": "code",
   "execution_count": 80,
   "metadata": {
    "collapsed": true,
    "scrolled": true
   },
   "outputs": [],
   "source": [
    "mover = pd.read_csv(\"C:/Users/Max/Google Drive/My Research/Chicago Crime-Migration/data/mover.csv\")\n"
   ]
  },
  {
   "cell_type": "code",
   "execution_count": 81,
   "metadata": {
    "scrolled": true
   },
   "outputs": [],
   "source": [
    "\n",
    "mover['Prev_MergeID'] = (mover.YearOnly).apply(int).apply(str) + mover.PrevGEOID.apply(int).apply(str)\n"
   ]
  },
  {
   "cell_type": "code",
   "execution_count": 82,
   "metadata": {
    "scrolled": true
   },
   "outputs": [],
   "source": [
    "\n",
    "Prev_Charac = ACS1016[['MHV','MHHI','Year','GEOID']]\n",
    "\n",
    "\n",
    "Prev_Charac =  Prev_Charac.rename(columns= {'MHV':\"PrevMHV\", 'MHHI':\"PrevMHHI\"})\n",
    "\n",
    "Prev_Charac['MergeID'] = (Prev_Charac.Year).apply(int).apply(str) + Prev_Charac.GEOID.apply(int).apply(str)\n",
    "\n"
   ]
  },
  {
   "cell_type": "code",
   "execution_count": 83,
   "metadata": {},
   "outputs": [
    {
     "data": {
      "text/plain": [
       "(204966, 51)"
      ]
     },
     "execution_count": 83,
     "metadata": {},
     "output_type": "execute_result"
    }
   ],
   "source": [
    "# now merge the mover file with ACS file \n",
    "\n",
    "mover_prev =  pd.merge(mover, Prev_Charac, how='inner',left_on= \"Prev_MergeID\", right_on =\"MergeID\"  )\n",
    "\n",
    "mover_prev.shape\n",
    "\n",
    "mover_gent = pd.merge(mover_prev, Gent1015, how='inner',left_on= \"PrevGEOID\", right_on =\"GEOID\"  )\n",
    "mover_gent.shape"
   ]
  },
  {
   "cell_type": "markdown",
   "metadata": {},
   "source": [
    "We only study households with vulnerable housing status (Eligible ==1 )"
   ]
  },
  {
   "cell_type": "code",
   "execution_count": 15,
   "metadata": {
    "collapsed": true
   },
   "outputs": [],
   "source": [
    "mover_gent = mover_gent[mover_gent.Eligible ==1]"
   ]
  },
  {
   "cell_type": "code",
   "execution_count": 90,
   "metadata": {
    "scrolled": true
   },
   "outputs": [],
   "source": [
    "\n",
    "\n",
    "#now create the logged difference of MHV between this year and last year\n",
    "\n",
    "\n",
    "\n",
    "mover_gent[\"Move_MHVdiff\"] =  mover_gent.MHV / mover_gent.PrevMHV\n",
    "\n",
    "mover_gent[\"Move_MHHIdiff\"] =  mover_gent.MHHI / mover_gent.PrevMHHI\n",
    "\n",
    "\n",
    "\n",
    "#mover_gent['Gented'] = relevel(mover_gent$gent_class, ref = \"nongentrifiable\")\n",
    "#mover_gent = subset(mover_diff, gent_able ==1)\n",
    "# & FIND_DIV_1000  < Inc\n",
    "#& FIND_DIV_1000  < quantile(mover_diff$FIND_DIV_1000, 0.4, na.rm = TRUE)\n",
    "\n",
    "\n",
    "mover_gent['MHVdown'] = mover_gent.Move_MHVdiff.map(lambda x:  1 if x <1 else 0)\n",
    "mover_gent['MHHIdown'] = mover_gent.Move_MHHIdiff.map(lambda x:  1 if x <1 else 0)\n",
    "\n",
    "mover_gent = mover_gent.dropna()"
   ]
  },
  {
   "cell_type": "markdown",
   "metadata": {},
   "source": [
    "household summary statistics by the gentrification status of its origin neighborhood"
   ]
  },
  {
   "cell_type": "code",
   "execution_count": 91,
   "metadata": {},
   "outputs": [
    {
     "name": "stdout",
     "output_type": "stream",
     "text": [
      "                 FIND_DIV_1000  PrevLOR  Move_MHHIdiff  Move_MHVdiff  HSize  MHHIdown  MHVdown\n",
      "gent_class                                                                                    \n",
      "gentrified            76143.47     7.52           1.49          1.50   2.15      0.22     0.22\n",
      "nongentrifiable      113705.51     8.39           1.16          1.10   2.25      0.43     0.48\n",
      "nongentrified         69519.41     8.69           1.43          1.57   2.20      0.23     0.18\n"
     ]
    }
   ],
   "source": [
    "a = mover_gent.groupby(\"gent_class\")[['FIND_DIV_1000','PrevLOR','Move_MHHIdiff',\"Move_MHVdiff\",\"HSize\",\"MHHIdown\",\"MHVdown\"]].mean()\n",
    "\n",
    "print (a.to_string(float_format= lambda x: \"{:.2f}\".format(x) ))\n"
   ]
  },
  {
   "cell_type": "code",
   "execution_count": 92,
   "metadata": {
    "scrolled": true
   },
   "outputs": [
    {
     "data": {
      "text/html": [
       "<div>\n",
       "<style>\n",
       "    .dataframe thead tr:only-child th {\n",
       "        text-align: right;\n",
       "    }\n",
       "\n",
       "    .dataframe thead th {\n",
       "        text-align: left;\n",
       "    }\n",
       "\n",
       "    .dataframe tbody tr th {\n",
       "        vertical-align: top;\n",
       "    }\n",
       "</style>\n",
       "<table border=\"1\" class=\"dataframe\">\n",
       "  <thead>\n",
       "    <tr style=\"text-align: right;\">\n",
       "      <th></th>\n",
       "      <th>OWNER_RENTER_STATUS_Owner</th>\n",
       "      <th>OWNER_RENTER_STATUS_Renter</th>\n",
       "      <th>HEAD_HH_AGE_CODE_25-29</th>\n",
       "      <th>HEAD_HH_AGE_CODE_30-34</th>\n",
       "      <th>HEAD_HH_AGE_CODE_35-39</th>\n",
       "      <th>HEAD_HH_AGE_CODE_40-44</th>\n",
       "      <th>HEAD_HH_AGE_CODE_45-49</th>\n",
       "      <th>HEAD_HH_AGE_CODE_50-54</th>\n",
       "      <th>HEAD_HH_AGE_CODE_55-59</th>\n",
       "      <th>HEAD_HH_AGE_CODE_60-64</th>\n",
       "      <th>HEAD_HH_AGE_CODE_65+ (inferred)</th>\n",
       "      <th>HEAD_HH_AGE_CODE_65-69</th>\n",
       "      <th>HEAD_HH_AGE_CODE_70-74</th>\n",
       "      <th>HEAD_HH_AGE_CODE_75+</th>\n",
       "      <th>HEAD_HH_AGE_CODE_&lt; 25</th>\n",
       "    </tr>\n",
       "    <tr>\n",
       "      <th>Gent_Status</th>\n",
       "      <th></th>\n",
       "      <th></th>\n",
       "      <th></th>\n",
       "      <th></th>\n",
       "      <th></th>\n",
       "      <th></th>\n",
       "      <th></th>\n",
       "      <th></th>\n",
       "      <th></th>\n",
       "      <th></th>\n",
       "      <th></th>\n",
       "      <th></th>\n",
       "      <th></th>\n",
       "      <th></th>\n",
       "      <th></th>\n",
       "    </tr>\n",
       "  </thead>\n",
       "  <tbody>\n",
       "    <tr>\n",
       "      <th>gentrified</th>\n",
       "      <td>0.718077</td>\n",
       "      <td>0.281923</td>\n",
       "      <td>0.111549</td>\n",
       "      <td>0.150646</td>\n",
       "      <td>0.142755</td>\n",
       "      <td>0.142755</td>\n",
       "      <td>0.100789</td>\n",
       "      <td>0.087877</td>\n",
       "      <td>0.074247</td>\n",
       "      <td>0.051650</td>\n",
       "      <td>0.003945</td>\n",
       "      <td>0.038737</td>\n",
       "      <td>0.018293</td>\n",
       "      <td>0.040890</td>\n",
       "      <td>0.035868</td>\n",
       "    </tr>\n",
       "    <tr>\n",
       "      <th>nongentrifiable</th>\n",
       "      <td>0.829822</td>\n",
       "      <td>0.170178</td>\n",
       "      <td>0.085130</td>\n",
       "      <td>0.132977</td>\n",
       "      <td>0.145024</td>\n",
       "      <td>0.133070</td>\n",
       "      <td>0.116283</td>\n",
       "      <td>0.097177</td>\n",
       "      <td>0.077379</td>\n",
       "      <td>0.060296</td>\n",
       "      <td>0.003867</td>\n",
       "      <td>0.040062</td>\n",
       "      <td>0.026194</td>\n",
       "      <td>0.051429</td>\n",
       "      <td>0.031113</td>\n",
       "    </tr>\n",
       "    <tr>\n",
       "      <th>nongentrified</th>\n",
       "      <td>0.745013</td>\n",
       "      <td>0.254987</td>\n",
       "      <td>0.106787</td>\n",
       "      <td>0.138563</td>\n",
       "      <td>0.140888</td>\n",
       "      <td>0.131150</td>\n",
       "      <td>0.115514</td>\n",
       "      <td>0.095431</td>\n",
       "      <td>0.071405</td>\n",
       "      <td>0.055264</td>\n",
       "      <td>0.004920</td>\n",
       "      <td>0.036595</td>\n",
       "      <td>0.022948</td>\n",
       "      <td>0.046300</td>\n",
       "      <td>0.034236</td>\n",
       "    </tr>\n",
       "  </tbody>\n",
       "</table>\n",
       "</div>"
      ],
      "text/plain": [
       "                 OWNER_RENTER_STATUS_Owner  OWNER_RENTER_STATUS_Renter  \\\n",
       "Gent_Status                                                              \n",
       "gentrified                        0.718077                    0.281923   \n",
       "nongentrifiable                   0.829822                    0.170178   \n",
       "nongentrified                     0.745013                    0.254987   \n",
       "\n",
       "                 HEAD_HH_AGE_CODE_25-29  HEAD_HH_AGE_CODE_30-34  \\\n",
       "Gent_Status                                                       \n",
       "gentrified                     0.111549                0.150646   \n",
       "nongentrifiable                0.085130                0.132977   \n",
       "nongentrified                  0.106787                0.138563   \n",
       "\n",
       "                 HEAD_HH_AGE_CODE_35-39  HEAD_HH_AGE_CODE_40-44  \\\n",
       "Gent_Status                                                       \n",
       "gentrified                     0.142755                0.142755   \n",
       "nongentrifiable                0.145024                0.133070   \n",
       "nongentrified                  0.140888                0.131150   \n",
       "\n",
       "                 HEAD_HH_AGE_CODE_45-49  HEAD_HH_AGE_CODE_50-54  \\\n",
       "Gent_Status                                                       \n",
       "gentrified                     0.100789                0.087877   \n",
       "nongentrifiable                0.116283                0.097177   \n",
       "nongentrified                  0.115514                0.095431   \n",
       "\n",
       "                 HEAD_HH_AGE_CODE_55-59  HEAD_HH_AGE_CODE_60-64  \\\n",
       "Gent_Status                                                       \n",
       "gentrified                     0.074247                0.051650   \n",
       "nongentrifiable                0.077379                0.060296   \n",
       "nongentrified                  0.071405                0.055264   \n",
       "\n",
       "                 HEAD_HH_AGE_CODE_65+ (inferred)  HEAD_HH_AGE_CODE_65-69  \\\n",
       "Gent_Status                                                                \n",
       "gentrified                              0.003945                0.038737   \n",
       "nongentrifiable                         0.003867                0.040062   \n",
       "nongentrified                           0.004920                0.036595   \n",
       "\n",
       "                 HEAD_HH_AGE_CODE_70-74  HEAD_HH_AGE_CODE_75+  \\\n",
       "Gent_Status                                                     \n",
       "gentrified                     0.018293              0.040890   \n",
       "nongentrifiable                0.026194              0.051429   \n",
       "nongentrified                  0.022948              0.046300   \n",
       "\n",
       "                 HEAD_HH_AGE_CODE_< 25  \n",
       "Gent_Status                             \n",
       "gentrified                    0.035868  \n",
       "nongentrifiable               0.031113  \n",
       "nongentrified                 0.034236  "
      ]
     },
     "execution_count": 92,
     "metadata": {},
     "output_type": "execute_result"
    }
   ],
   "source": [
    "cat_mover =  pd.get_dummies(mover_gent.loc[:,['OWNER_RENTER_STATUS','HEAD_HH_AGE_CODE']])\n",
    "\n",
    "cat_mover['Gent_Status'] = mover_gent.gent_class\n",
    "\n",
    "cat_mover.groupby(\"Gent_Status\").mean()"
   ]
  },
  {
   "cell_type": "markdown",
   "metadata": {},
   "source": [
    "The above household summary statistics indicate that households moving from gentrified neighborhoods are much more likely to be  renters. In other words, we have reason to believe that gentrification is impacting renters more than homeowners. Next step is to use multivariate regression to investigate this incidence difference. "
   ]
  },
  {
   "cell_type": "markdown",
   "metadata": {},
   "source": [
    "First prepare a table with households moving from \"gentrified\" and \"nongentrified\" neighborhoods"
   ]
  },
  {
   "cell_type": "code",
   "execution_count": 201,
   "metadata": {},
   "outputs": [
    {
     "name": "stderr",
     "output_type": "stream",
     "text": [
      "D:\\Anaconda\\Anaconda\\lib\\site-packages\\ipykernel_launcher.py:3: SettingWithCopyWarning: \n",
      "A value is trying to be set on a copy of a slice from a DataFrame\n",
      "\n",
      "See the caveats in the documentation: http://pandas.pydata.org/pandas-docs/stable/indexing.html#indexing-view-versus-copy\n",
      "  This is separate from the ipykernel package so we can avoid doing imports until\n",
      "D:\\Anaconda\\Anaconda\\lib\\site-packages\\ipykernel_launcher.py:5: SettingWithCopyWarning: \n",
      "A value is trying to be set on a copy of a slice from a DataFrame.\n",
      "Try using .loc[row_indexer,col_indexer] = value instead\n",
      "\n",
      "See the caveats in the documentation: http://pandas.pydata.org/pandas-docs/stable/indexing.html#indexing-view-versus-copy\n",
      "  \"\"\"\n"
     ]
    }
   ],
   "source": [
    "\n",
    "mover_gentable = mover_gent.loc[mover_gent.gent_class != \"nongentrifiable\"]\n",
    "mover_gentable.dropna(inplace=True)\n",
    "\n",
    "mover_gentable['YearOnly'] = mover_gentable.YearOnly.apply(str)"
   ]
  },
  {
   "cell_type": "markdown",
   "metadata": {},
   "source": [
    "Import necessary tools and packages to display regression results"
   ]
  },
  {
   "cell_type": "code",
   "execution_count": 118,
   "metadata": {
    "collapsed": true
   },
   "outputs": [],
   "source": [
    "import statsmodels.formula.api as smf\n",
    "from statsmodels.iolib.summary2 import summary_col\n",
    "from stargazer.stargazer import Stargazer\n",
    "from IPython.core.display import display, HTML"
   ]
  },
  {
   "cell_type": "markdown",
   "metadata": {},
   "source": [
    "The lm.cat_gent model is using binary indicator of gentrification, regardless of the gentrification intensity"
   ]
  },
  {
   "cell_type": "code",
   "execution_count": 248,
   "metadata": {},
   "outputs": [],
   "source": [
    "\n",
    "lm.cat_gent = smf.ols(formula='MHHIdown ~ gent_class  +\\\n",
    "C(OWNER_RENTER_STATUS, Treatment(reference=\"Owner\")) + C(OWNER_RENTER_STATUS, Treatment(reference=\"Owner\"))*gent_class +\\\n",
    "YearOnly + HEAD_HH_AGE_CODE + MARITAL_STATUS + HSize   + FIND_DIV_1000  + PrevLOR', data=mover_gentable).fit()\n"
   ]
  },
  {
   "cell_type": "markdown",
   "metadata": {},
   "source": [
    "Then replace the binary gentrification dummy with a continuous metric of gentrification intensity. The regression result is shown in lm.cnt_gent"
   ]
  },
  {
   "cell_type": "code",
   "execution_count": 202,
   "metadata": {
    "scrolled": true
   },
   "outputs": [
    {
     "name": "stderr",
     "output_type": "stream",
     "text": [
      "D:\\Anaconda\\Anaconda\\lib\\site-packages\\ipykernel_launcher.py:1: SettingWithCopyWarning: \n",
      "A value is trying to be set on a copy of a slice from a DataFrame.\n",
      "Try using .loc[row_indexer,col_indexer] = value instead\n",
      "\n",
      "See the caveats in the documentation: http://pandas.pydata.org/pandas-docs/stable/indexing.html#indexing-view-versus-copy\n",
      "  \"\"\"Entry point for launching an IPython kernel.\n",
      "D:\\Anaconda\\Anaconda\\lib\\site-packages\\ipykernel_launcher.py:3: SettingWithCopyWarning: \n",
      "A value is trying to be set on a copy of a slice from a DataFrame.\n",
      "Try using .loc[row_indexer,col_indexer] = value instead\n",
      "\n",
      "See the caveats in the documentation: http://pandas.pydata.org/pandas-docs/stable/indexing.html#indexing-view-versus-copy\n",
      "  This is separate from the ipykernel package so we can avoid doing imports until\n"
     ]
    }
   ],
   "source": [
    "mover_gentable['gent_class'] = mover_gentable.gent_class.map(lambda x: 1 if x == \"gentrified\" else 0)\n",
    "\n",
    "mover_gentable['Gentensity'] = (mover_gentable.gent_class) * ((mover_gentable.MGR_1015 + mover_gentable.MHV_1015)/2) \n",
    "\n",
    "Gent_Inten = mover_gentable.Gentensity\n"
   ]
  },
  {
   "cell_type": "markdown",
   "metadata": {},
   "source": [
    "Replace all zeroes in the series with NaN. The reason is that zero should not enter the quantile cut function."
   ]
  },
  {
   "cell_type": "code",
   "execution_count": 203,
   "metadata": {
    "scrolled": true
   },
   "outputs": [
    {
     "data": {
      "text/plain": [
       "0   NaN\n",
       "1   NaN\n",
       "2   NaN\n",
       "3   NaN\n",
       "4   NaN\n",
       "Name: Gentensity, dtype: float64"
      ]
     },
     "execution_count": 203,
     "metadata": {},
     "output_type": "execute_result"
    }
   ],
   "source": [
    "Gent_Inten = Gent_Inten.replace(0, np.NaN)"
   ]
  },
  {
   "cell_type": "code",
   "execution_count": 204,
   "metadata": {},
   "outputs": [
    {
     "name": "stderr",
     "output_type": "stream",
     "text": [
      "D:\\Anaconda\\Anaconda\\lib\\site-packages\\ipykernel_launcher.py:8: SettingWithCopyWarning: \n",
      "A value is trying to be set on a copy of a slice from a DataFrame.\n",
      "Try using .loc[row_indexer,col_indexer] = value instead\n",
      "\n",
      "See the caveats in the documentation: http://pandas.pydata.org/pandas-docs/stable/indexing.html#indexing-view-versus-copy\n",
      "  \n"
     ]
    },
    {
     "data": {
      "text/plain": [
       "0    nongented\n",
       "1    nongented\n",
       "2    nongented\n",
       "3    nongented\n",
       "4    nongented\n",
       "Name: Gentensity, dtype: object"
      ]
     },
     "execution_count": 204,
     "metadata": {},
     "output_type": "execute_result"
    }
   ],
   "source": [
    "\n",
    "Gent_Inten = pd.qcut(Gent_Inten, 4, labels = [\"low\",\"med\",\"med2\",\"high\"])\n",
    "\n",
    "Gent_Inten = Gent_Inten.replace('med2', 'med')\n",
    "\n",
    "Gent_Inten = Gent_Inten.replace(np.NaN, \"nongented\")\n",
    "\n",
    "mover_gentable['Gentensity'] = Gent_Inten\n"
   ]
  },
  {
   "cell_type": "code",
   "execution_count": 249,
   "metadata": {
    "collapsed": true
   },
   "outputs": [],
   "source": [
    "lm.cnt_gent = smf.ols(formula='MHHIdown ~ C(Gentensity, Treatment(reference=\"nongented\")) +\\\n",
    "C(OWNER_RENTER_STATUS, Treatment(reference=\"Owner\")) +\\\n",
    "C(OWNER_RENTER_STATUS, Treatment(reference=\"Owner\"))*C(Gentensity, Treatment(reference=\"nongented\")) +\\\n",
    "             YearOnly + HEAD_HH_AGE_CODE + MARITAL_STATUS + HSize   + FIND_DIV_1000  + PrevLOR', data=mover_gentable).fit()\n"
   ]
  },
  {
   "cell_type": "code",
   "execution_count": 256,
   "metadata": {},
   "outputs": [],
   "source": [
    "stargazer = Stargazer([lm.cat_gent,lm.cnt_gent])\n",
    "\n",
    "stargazer.covariate_order(['C(Gentensity, Treatment(reference=\"nongented\"))[T.high]',\n",
    "                           'C(Gentensity, Treatment(reference=\"nongented\"))[T.med]',\n",
    "                          'C(Gentensity, Treatment(reference=\"nongented\"))[T.low]', \n",
    "                           'gent_class',\n",
    "                            'C(OWNER_RENTER_STATUS, Treatment(reference=\"Owner\"))[T.Renter]:gent_class',\n",
    "                           'C(OWNER_RENTER_STATUS, Treatment(reference=\"Owner\"))[T.Renter]',\n",
    "                           'C(OWNER_RENTER_STATUS, Treatment(reference=\"Owner\"))[T.Renter]:C(Gentensity, Treatment(reference=\"nongented\"))[T.high]',\n",
    "                           'C(OWNER_RENTER_STATUS, Treatment(reference=\"Owner\"))[T.Renter]:C(Gentensity, Treatment(reference=\"nongented\"))[T.med]',\n",
    "                           'C(OWNER_RENTER_STATUS, Treatment(reference=\"Owner\"))[T.Renter]:C(Gentensity, Treatment(reference=\"nongented\"))[T.low]'\n",
    "                          \n",
    "                          \n",
    "                          ])\n",
    "stargazer.rename_covariates({'C(Gentensity, Treatment(reference=\"nongented\"))[T.high]': 'High Intensity',\n",
    "                            'C(Gentensity, Treatment(reference=\"nongented\"))[T.med]': 'Medium Intensity',\n",
    "                             'C(Gentensity, Treatment(reference=\"nongented\"))[T.low]': 'Low Intensity',\n",
    "                            'gent_class':'Gentrified (Dummy)',\n",
    "                             'C(OWNER_RENTER_STATUS, Treatment(reference=\"Owner\"))[T.Renter]:gent_class' : 'Renter * Gentrified',\n",
    "                             'C(OWNER_RENTER_STATUS, Treatment(reference=\"Owner\"))[T.Renter]':'Renter (Dummy)',\n",
    "                            'C(OWNER_RENTER_STATUS, Treatment(reference=\"Owner\"))[T.Renter]:C(Gentensity, Treatment(reference=\"nongented\"))[T.high]':'Renter*High',\n",
    "                            'C(OWNER_RENTER_STATUS, Treatment(reference=\"Owner\"))[T.Renter]:C(Gentensity, Treatment(reference=\"nongented\"))[T.med]':'Renter*Medium',\n",
    "                             'C(OWNER_RENTER_STATUS, Treatment(reference=\"Owner\"))[T.Renter]:C(Gentensity, Treatment(reference=\"nongented\"))[T.low]':'Renter*Low'\n",
    "                            })\n",
    "stargazer.dependent_variable_name('Dep Var: Downward Move (Dummy)')\n",
    "\n",
    "b=stargazer.render_html()"
   ]
  },
  {
   "cell_type": "code",
   "execution_count": 257,
   "metadata": {
    "scrolled": true
   },
   "outputs": [
    {
     "data": {
      "text/html": [
       "<table style=\"text-align:center\"><tr><td colspan=\"3\" style=\"border-bottom: 1px solid black\"></td></tr><tr><td style=\"text-align:left\"></td><td colspan=\"2\"><em>Dep Var: Downward Move (Dummy)</em></td></tr><tr><td style=\"text-align:left\"></td><tr><td style=\"text-align:left\"></td><td>(1)</td><td>(2)</td></tr><tr><td colspan=\"3\" style=\"border-bottom: 1px solid black\"></td></tr><tr><td style=\"text-align:left\">High Intensity</td><td></td><td>0.12<sup>***</sup></td></tr><tr><td style=\"text-align:left\"></td><td></td><td>(0.018)</td></tr><tr><td style=\"text-align:left\">Medium Intensity</td><td></td><td>-0.006<sup></sup></td></tr><tr><td style=\"text-align:left\"></td><td></td><td>(0.013)</td></tr><tr><td style=\"text-align:left\">Low Intensity</td><td></td><td>-0.007<sup></sup></td></tr><tr><td style=\"text-align:left\"></td><td></td><td>(0.017)</td></tr><tr><td style=\"text-align:left\">Gentrified (Dummy)</td><td>0.024<sup>**</sup></td><td></td></tr><tr><td style=\"text-align:left\"></td><td>(0.009)</td><td></td></tr><tr><td style=\"text-align:left\">Renter * Gentrified</td><td>-0.062<sup>***</sup></td><td></td></tr><tr><td style=\"text-align:left\"></td><td>(0.017)</td><td></td></tr><tr><td style=\"text-align:left\">Renter (Dummy)</td><td>0.152<sup>***</sup></td><td>0.152<sup>***</sup></td></tr><tr><td style=\"text-align:left\"></td><td>(0.006)</td><td>(0.006)</td></tr><tr><td style=\"text-align:left\">Renter*High</td><td></td><td>-0.067<sup>*</sup></td></tr><tr><td style=\"text-align:left\"></td><td></td><td>(0.038)</td></tr><tr><td style=\"text-align:left\">Renter*Medium</td><td></td><td>-0.028<sup></sup></td></tr><tr><td style=\"text-align:left\"></td><td></td><td>(0.023)</td></tr><tr><td style=\"text-align:left\">Renter*Low</td><td></td><td>-0.112<sup>***</sup></td></tr><tr><td style=\"text-align:left\"></td><td></td><td>(0.034)</td></tr><td colspan=\"3\" style=\"border-bottom: 1px solid black\"></td></tr><tr><td style=\"text-align: left\">Observations</td><td>32464.0</td><td>32464.0</td></tr><tr><td style=\"text-align: left\">R<sup>2</sup></td><td>0.108</td><td>0.11</td></tr><tr><td style=\"text-align: left\">Adjusted R<sup>2</sup></td><td>0.108</td><td>0.109</td></tr><tr><td style=\"text-align: left\">Residual Std. Error</td><td>0.394(df = 32439.0)</td><td>0.394(df = 32435.0)</td></tr><tr><td style=\"text-align: left\">F Statistic</td><td>163.977<sup>***</sup>(df = 24.0; 32439.0)</td><td>142.656<sup>***</sup>(df = 28.0; 32435.0)</td></tr><tr><td colspan=\"3\" style=\"border-bottom: 1px solid black\"></td></tr><tr><td style=\"text-align: left\">Note:</td><td colspan=\"2\" style=\"text-align: right\"><em>p&lt;0.1</em>; <b>p&lt;0.05</b>; p&lt;0.01</td></tr></table>"
      ],
      "text/plain": [
       "<IPython.core.display.HTML object>"
      ]
     },
     "metadata": {},
     "output_type": "display_data"
    }
   ],
   "source": [
    "\n",
    "display(HTML(b))"
   ]
  },
  {
   "cell_type": "code",
   "execution_count": null,
   "metadata": {
    "collapsed": true
   },
   "outputs": [],
   "source": []
  }
 ],
 "metadata": {
  "kernelspec": {
   "display_name": "Python 3",
   "language": "python",
   "name": "python3"
  },
  "language_info": {
   "codemirror_mode": {
    "name": "ipython",
    "version": 3
   },
   "file_extension": ".py",
   "mimetype": "text/x-python",
   "name": "python",
   "nbconvert_exporter": "python",
   "pygments_lexer": "ipython3",
   "version": "3.6.1"
  }
 },
 "nbformat": 4,
 "nbformat_minor": 2
}
